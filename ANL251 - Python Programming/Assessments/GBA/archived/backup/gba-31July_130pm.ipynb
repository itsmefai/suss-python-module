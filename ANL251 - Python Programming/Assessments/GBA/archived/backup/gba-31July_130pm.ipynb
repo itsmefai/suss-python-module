{
 "cells": [
  {
   "cell_type": "code",
   "execution_count": 44,
   "metadata": {},
   "outputs": [],
   "source": [
    "def read_file(filepath = 'myplants.txt'):\n",
    "    \n",
    "    f = open(filepath, \"r\")\n",
    "    contents = f.read()\n",
    "\n",
    "    # Creating a dictionary to store the plant's information\n",
    "    plant_dict = {}\n",
    "\n",
    "    for i in contents.split('\\n\\n'):\n",
    "        plant_info = i.split('\\n')\n",
    "        plant_name = plant_info[0]\n",
    "\n",
    "        plant_dict[plant_name] = {'Name': plant_name,\n",
    "                                  'Last Update': plant_info[1],\n",
    "                                  'Information': plant_info[2:-1]}\n",
    "    \n",
    "    # closing the text file\n",
    "    f.close()\n",
    "    \n",
    "    # Return the output\n",
    "    return plant_dict\n",
    "\n"
   ]
  },
  {
   "cell_type": "code",
   "execution_count": 197,
   "metadata": {},
   "outputs": [],
   "source": [
    "from datetime import datetime\n",
    "\n",
    "class Plant:\n",
    "    def __init__(self, filepath = 'myplants.txt'):\n",
    "        self.filepath = filepath\n",
    "        self.data = self.load_data()\n",
    "    \n",
    "    def load_data(self):\n",
    "        f = open(self.filepath, \"r\")\n",
    "        contents = f.read()\n",
    "\n",
    "        # Creating a dictionary to store the plant's information\n",
    "        plant_dict = {}\n",
    "\n",
    "        for i in contents.split('\\n\\n'):\n",
    "            plant_info = i.split('\\n')\n",
    "            plant_name = plant_info[0]\n",
    "\n",
    "            plant_dict[plant_name] = {'Name': plant_name,\n",
    "                                      'Last Update': plant_info[1],\n",
    "                                      'Information': plant_info[2:-1]}\n",
    "        \n",
    "        return plant_dict\n",
    "        \n",
    "        # closing the text file\n",
    "        f.close()\n",
    "        \n",
    "    def view_all(self):\n",
    "        \n",
    "        return self.data\n",
    "    \n",
    "    def add_plant(self, name):\n",
    "        \n",
    "        # datetime object containing current date and time\n",
    "        now = datetime.now()\n",
    "\n",
    "        # dd-mm-YY H:M:S\n",
    "        dt_string = now.strftime(\"%d-%m-%Y %H:%M:%S\")\n",
    "        \n",
    "        plant_info = []\n",
    "        \n",
    "        while True:\n",
    "            info = input(f\"Please enter the information for {name}. Key in 0 to exit: \")\n",
    "            if info != '0':\n",
    "                print(\"Information added\")\n",
    "                plant_info.append(info)\n",
    "                continue\n",
    "            else:\n",
    "                #we're happy with the value given.\n",
    "                #we're ready to exit the loop.\n",
    "                print(\"Stop Editing ...\")\n",
    "                break\n",
    "\n",
    "        self.data[name] = {'Name': name,\n",
    "                          'Last Update': dt_string,\n",
    "                          'Information': plant_info}\n",
    "        \n",
    "    \n",
    "    def search(self, name):\n",
    "        \n",
    "        plants = list(self.data.keys())\n",
    "        \n",
    "        if name in plants:\n",
    "            # if name is found\n",
    "            for k, v in self.data[name].items():\n",
    "                if k != 'Information':\n",
    "                    print(f\"{k}: {v}\")\n",
    "                else:\n",
    "                    print(f\"{k}:\")\n",
    "                    count = 1\n",
    "                    for info in v:\n",
    "                        print(f\"({count}) {info}\")\n",
    "                        count += 1\n",
    "            \n",
    "        else:\n",
    "            print('Flower not found!')\n",
    "            print('Would you like to add the flower? Yes = 1, No = 0')\n",
    "            while True:\n",
    "                choice = input()\n",
    "                if choice == '1':\n",
    "                    self.add_plant(name)\n",
    "                    print('Plant Added.')\n",
    "                    break\n",
    "                elif choice == '0':\n",
    "                    print('Exiting...')\n",
    "                    break\n",
    "                else:\n",
    "                    print('Invalid input. Try again.')\n",
    "                    continue\n"
   ]
  },
  {
   "cell_type": "code",
   "execution_count": 198,
   "metadata": {},
   "outputs": [],
   "source": [
    "a = Plant('myplants.txt')"
   ]
  },
  {
   "cell_type": "code",
   "execution_count": 199,
   "metadata": {},
   "outputs": [
    {
     "name": "stdout",
     "output_type": "stream",
     "text": [
      "Flower not found!\n",
      "Would you like to add the flower? Yes = 1, No = 0\n"
     ]
    },
    {
     "name": "stdin",
     "output_type": "stream",
     "text": [
      " 1\n",
      "Please enter the information for Test Plant 2. Key in 0 to exit:  information 1\n"
     ]
    },
    {
     "name": "stdout",
     "output_type": "stream",
     "text": [
      "Information added\n"
     ]
    },
    {
     "name": "stdin",
     "output_type": "stream",
     "text": [
      "Please enter the information for Test Plant 2. Key in 0 to exit:  information 2\n"
     ]
    },
    {
     "name": "stdout",
     "output_type": "stream",
     "text": [
      "Information added\n"
     ]
    },
    {
     "name": "stdin",
     "output_type": "stream",
     "text": [
      "Please enter the information for Test Plant 2. Key in 0 to exit:  information 3\n"
     ]
    },
    {
     "name": "stdout",
     "output_type": "stream",
     "text": [
      "Information added\n"
     ]
    },
    {
     "name": "stdin",
     "output_type": "stream",
     "text": [
      "Please enter the information for Test Plant 2. Key in 0 to exit:  0\n"
     ]
    },
    {
     "name": "stdout",
     "output_type": "stream",
     "text": [
      "Stop Editing ...\n",
      "Plant Added.\n"
     ]
    }
   ],
   "source": [
    "a.search('Test Plant 2')"
   ]
  },
  {
   "cell_type": "code",
   "execution_count": null,
   "metadata": {},
   "outputs": [],
   "source": []
  }
 ],
 "metadata": {
  "kernelspec": {
   "display_name": "Python 3",
   "language": "python",
   "name": "python3"
  },
  "language_info": {
   "codemirror_mode": {
    "name": "ipython",
    "version": 3
   },
   "file_extension": ".py",
   "mimetype": "text/x-python",
   "name": "python",
   "nbconvert_exporter": "python",
   "pygments_lexer": "ipython3",
   "version": "3.7.4"
  }
 },
 "nbformat": 4,
 "nbformat_minor": 4
}
